{
 "cells": [
  {
   "cell_type": "markdown",
   "metadata": {},
   "source": [
    "This notebook generates a single pair of MAV audio and flight data from a recorded flight.<br> \n",
    "To run this notebook, the following are required:\n",
    "- Laptop/workstation capable of running paparazzi (e.g. Ubuntu)\n",
    "- Parrot Bebop2 MAV\n",
    "- Raspberry Pi (or similar device) equipped with USB microphone\n",
    "<br><br>\n",
    "\n",
    "To set up paparazzi, perform the following steps:\n",
    "1. Clone or download the fork at https://github.com/mvanderwoude/paparazzi\n",
    "2. Install paparazzi\n",
    "3. In the paparazzi configuration chooser (accessed by running _python start.py_ in the terminal from the paparazzi directory), change _Conf_ to _userconf/tudelft/thesis_conf.xml_\n",
    "4. Run paparazzi (_./paparazzi_ in the paparazzi directory), then set the A/C to _bebop2_random_waypoint_udp_"
   ]
  },
  {
   "cell_type": "code",
   "execution_count": 7,
   "metadata": {},
   "outputs": [
    {
     "name": "stdout",
     "output_type": "stream",
     "text": [
      "/home/mark/Documents/Thesis/Article/aircraft_detector/Data\n"
     ]
    }
   ],
   "source": [
    "import os\n",
    "\n",
    "import aircraft_detector.ego_noise_prediction.data_acquisition as da\n",
    "\n",
    "\n",
    "# assign root directory\n",
    "root_directory = os.path.join(os.pardir, os.pardir, os.pardir, 'Data')\n",
    "\n",
    "# server, client settings (Bebop2 access point = 192.168.42.1)\n",
    "server_ip = '192.168.42.18'  # IP of laptop/GCS\n",
    "tcp_client_ip = '192.168.42.28'  # IP of Pi\n",
    "\n",
    "acquisition = da.DataAcquisition(root_directory, server_ip, tcp_client_ip)"
   ]
  },
  {
   "cell_type": "markdown",
   "metadata": {},
   "source": [
    "To record a new set of data, do the following __before__ calling _collect_data()_ in the cell below:\n",
    "1. Ensure the Bebop2 and Pi are turned on, and both the Pi and the workstation are connected to the access point of the Bebop2 (in this example, _192.268.42.1_).\n",
    "2. Ensure a telnet connection between workstation and MAV is established (e.g. by pressing the on/off button on the Bebop2 four times).\n",
    "3. In paparazzi, _Clean_, _Build_ and _Upload_, then execute a _Flight UDP_ session to launch the GCS."
   ]
  },
  {
   "cell_type": "code",
   "execution_count": null,
   "metadata": {},
   "outputs": [],
   "source": [
    "# needed to ssh into Pi\n",
    "pi_username = 'Pi'\n",
    "pi_password = 'RaspTU'\n",
    "\n",
    "# collect data: after this function is called, data collection will start \n",
    "# as soon as the motors are turned on, and stop as soon as they are turned off.\n",
    "audio_file, states_file = acquisition.collect_data(pi_username, pi_password)\n",
    "\n",
    "print(\"Audio data saved to %s.\" % os.path.abspath(audio_file))\n",
    "print(\"State data saved to %s.\" % os.path.abspath(states_file))"
   ]
  },
  {
   "cell_type": "code",
   "execution_count": null,
   "metadata": {},
   "outputs": [],
   "source": [
    "# plot data\n",
    "states_to_plot = ['rpm', 'cmd', 'vel', 'angles']\n",
    "acquisition.plot_data(audio_file, states_file, states_to_plot)  # default: plot all states"
   ]
  }
 ],
 "metadata": {
  "kernelspec": {
   "display_name": "Python 3.7 (Thesis)",
   "language": "python",
   "name": "thesis"
  },
  "language_info": {
   "codemirror_mode": {
    "name": "ipython",
    "version": 3
   },
   "file_extension": ".py",
   "mimetype": "text/x-python",
   "name": "python",
   "nbconvert_exporter": "python",
   "pygments_lexer": "ipython3",
   "version": "3.7.9"
  }
 },
 "nbformat": 4,
 "nbformat_minor": 4
}
