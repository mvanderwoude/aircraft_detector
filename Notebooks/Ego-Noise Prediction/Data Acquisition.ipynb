{
 "cells": [
  {
   "cell_type": "markdown",
   "metadata": {},
   "source": [
    "This notebook generates a single pair of MAV audio/state vectors. To gather data, do the following BEFORE executing the code in the notebook. Assumes a telnet connection with the MAV is established. In this example, the microphone was plugged on a raspberry pi 3 (Rpi) powered by the MAV, a parrot bebop2.\n",
    "\n",
    "This notebook also requires the companion code from paparazzi (clone forked github url...)\n",
    "\n",
    "1) Make sure the drone is running via paparazzi (clean->build->upload, execute processes...) <br>\n",
    "2) Make sure both devices (laptop/GCS, Rpi) are connected to the drone access point <br>\n",
    "Bebop2 IP in this example is 192.168.42.1 (will typically be something like 192.168.XX.1).\n",
    "       nmap ... can be used to verify if all devices are connected"
   ]
  },
  {
   "cell_type": "code",
   "execution_count": 7,
   "metadata": {},
   "outputs": [
    {
     "name": "stdout",
     "output_type": "stream",
     "text": [
      "/home/mark/Documents/Thesis/Article/aircraft_detector/Data\n"
     ]
    }
   ],
   "source": [
    "import os\n",
    "\n",
    "import aircraft_detector.ego_noise_prediction.data_acquisition as da\n",
    "\n",
    "# set the root directory of the data (relative to cwd), parent dir. of github dir..\n",
    "# MAV data will be saved in a dedicated subdir...\n",
    "dir_root = os.path.join(os.pardir, os.pardir, 'Data')\n",
    "print(os.path.abspath(dir_root))\n",
    "\n",
    "# server, client settings\n",
    "server_ip = '192.168.42.18'  # IP of laptop/GCS\n",
    "client_ip = '192.168.42.28'  # IP of Rpi\n"
   ]
  },
  {
   "cell_type": "code",
   "execution_count": null,
   "metadata": {},
   "outputs": [],
   "source": []
  }
 ],
 "metadata": {
  "kernelspec": {
   "display_name": "Python 3.7 (Thesis)",
   "language": "python",
   "name": "thesis"
  },
  "language_info": {
   "codemirror_mode": {
    "name": "ipython",
    "version": 3
   },
   "file_extension": ".py",
   "mimetype": "text/x-python",
   "name": "python",
   "nbconvert_exporter": "python",
   "pygments_lexer": "ipython3",
   "version": "3.7.9"
  }
 },
 "nbformat": 4,
 "nbformat_minor": 4
}
