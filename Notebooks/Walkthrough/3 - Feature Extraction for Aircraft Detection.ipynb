{
 "cells": [
  {
   "cell_type": "markdown",
   "metadata": {},
   "source": [
    "## Feature Extraction\n",
    "With the audio data obtained, spectral features can now be extracted using the __FeatureExtraction__ class. This class expects a list of features and optionally non-default feature parameters for extraction. For this walkthrough, the Melspectrogram will be extracted with default parameters. <br><br>"
   ]
  },
  {
   "cell_type": "code",
   "execution_count": null,
   "metadata": {},
   "outputs": [],
   "source": [
    "import aircraft_detector.aircraft_classification.feature_extraction as fe\n",
    "features_to_extract = ['Mel']\n",
    "extraction = fe.FeatureExtraction(features_to_extract)\n",
    "\n",
    "# create the 'clean' dataset \n",
    "### scenario 1 clean\n",
    "\n",
    "\n",
    "### feature extraction noisy\n",
    "\n",
    "### scenario 1 mixed\n",
    "\n",
    "### scenario 2\n"
   ]
  }
 ],
 "metadata": {
  "kernelspec": {
   "display_name": "Python 3.7 (Thesis)",
   "language": "python",
   "name": "thesis"
  },
  "language_info": {
   "codemirror_mode": {
    "name": "ipython",
    "version": 3
   },
   "file_extension": ".py",
   "mimetype": "text/x-python",
   "name": "python",
   "nbconvert_exporter": "python",
   "pygments_lexer": "ipython3",
   "version": "3.7.9"
  }
 },
 "nbformat": 4,
 "nbformat_minor": 4
}
